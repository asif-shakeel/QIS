{
 "cells": [
  {
   "cell_type": "markdown",
   "metadata": {
    "hideCode": false,
    "hidePrompt": false
   },
   "source": [
    "Copyright (c) 2019 Asif Shakeel\n",
    "\n",
    "<a rel=\"license\" href=\"http://creativecommons.org/licenses/by-nc-sa/4.0/\"><img alt=\"Creative Commons License\" style=\"border-width:0\" src=\"https://i.creativecommons.org/l/by-nc-sa/4.0/88x31.png\" /></a><br />This work is licensed under a <a rel=\"license\" href=\"http://creativecommons.org/licenses/by-nc-sa/4.0/\">Creative Commons Attribution-NonCommercial-ShareAlike 4.0 International License</a>"
   ]
  },
  {
   "cell_type": "markdown",
   "metadata": {
    "hideCode": false,
    "hidePrompt": false
   },
   "source": [
    "# Discrete time quantum walk (DTQW):  a scalable algorithm"
   ]
  },
  {
   "cell_type": "markdown",
   "metadata": {
    "hideCode": false,
    "hidePrompt": false
   },
   "source": [
    "This notebook is based on the paper \"Efficient and scalable quantum walk algorithms via the quantum Fourier transform\" by Asif Shakeel, [arXiv:1912.00978](https://arxiv.org/abs/1912.00978) (2019)"
   ]
  },
  {
   "cell_type": "markdown",
   "metadata": {
    "hideCode": false,
    "hidePrompt": false
   },
   "source": [
    "__Contributor__\n",
    "\n",
    "Asif Shakeel \n",
    "\n",
    "email: asif.shakeel@gmail.com"
   ]
  },
  {
   "cell_type": "markdown",
   "metadata": {
    "hideCode": false,
    "hidePrompt": false
   },
   "source": [
    "__What is a DTQW and how does this algorithm work?__\n",
    "\n",
    "You are in a world where space and time are discrete. In fact, they are both integers. Let's go for a quantum walk.\n",
    "\n",
    "The simplest quantum walk describes a quantum particle hopping or *propagating* on a lattice (a grid) from site to site. The direction or *velocity* of the hop is stored in an internal state (think *spin* of an electron) that  undergoes *scattering* just before each hop, meaning that the direction of the hop changes each hop. This simple model once generalized has lots of applications in all sorts of things like quantum search, simulation of fundamental physics and so on. Just as a demonstration of quantum vs classical behavior, a QW shows that the idea of randomness  differs between the two by displaying a walk pattern very different than a classical random walk.\n",
    "\n",
    "On to details. Propagation is a change in position and scattering is a change in velocity of the particle. Before we can understand that, first we need to know how  we go from a classical description of position to a quantum one? For us, the lattice is one-dimensional,  a line with $N$ sites,  with the ends wrapping around. Each of these site positions, $x \\in \\{0, \\ldots, N-1 \\}$, in a quantum setting becomes  a basis element of an $N$ dimensional *position* space,  $x \\mapsto \\left| x\\right\\rangle$. Next, the velocity. Well, let's say  we only hop on this line one step to the \"left\", i.e., $x \\mapsto x-1$ or one step to the \"right\", i.e., $x \\mapsto x+1$.  Then a velocity can be either $-1$ or $+1$. So we represent a velocity in a $2$-dimensional *velocity* space in which the left and right hops are basis vectors $\\left|v\\right\\rangle$ with $v  \\in \\{-1,+1\\}$. Let's put the two together in a composite space $\\mathcal{H}$ with velocity first and then the position:\n",
    "\n",
    "\n",
    "\\begin{equation}\n",
    "\\mathcal{H} = \\mathbb{C}^2 \\otimes \\mathbb{C}^N \n",
    "\\end{equation}\n",
    "\n",
    "If you don't know the funny symbols here, they simply mean what we just said in the paragraph before. We are now saying it formally, and we won't be needing this kind of notation except to state a few more formal things.\n",
    "\n",
    "So what do we need? Really, just what  a qubit is.  It's a $2$-dimensional vector space, whose basis is usually taken as $\\{\\left|0\\right\\rangle, \\left|1\\right\\rangle\\}$. \n",
    "\n",
    "\\begin{equation}\n",
    "\\left|0\\right\\rangle = \\left . \\begin{bmatrix}\n",
    "    1 \\\\\n",
    "    0 \n",
    "  \\end{bmatrix} \\right.\n",
    "\\end{equation}\n",
    "\n",
    "\\begin{equation}\n",
    "\\left|1\\right\\rangle = \\left . \\begin{bmatrix}\n",
    "    0 \\\\\n",
    "    1 \n",
    "  \\end{bmatrix} \\right.\n",
    "\\end{equation}\n",
    "\n",
    "If we have $n$ *bits*, we have  $2^n$ numbers (which ones?). So if we chose them as positions of points on a line, i.e., $N=2^n$,  then when we go to their quantum versions,   $n$ qubits, we are in a  $2^n$-dimensional position space.\n",
    "And the basis vector for a position $x \\in \\{0,\\ldots,2^n-1\\}$ is all zeros except at index $x$ as shown below (indices shown on the right),  where it is $1$,\n",
    "\n",
    "\\begin{equation} \n",
    "\\left|x\\right\\rangle= \n",
    "  \\begin{bmatrix}\n",
    "\t0 \\\\\n",
    " \t0\\\\\n",
    "    \\vdots\\\\\n",
    "   \t0\\\\\n",
    "   \t1\\\\\n",
    "\t0\\\\\n",
    "    \\vdots\\\\\n",
    "    0   \n",
    "  \\end{bmatrix}  \n",
    "  \\begin{array}{l}\n",
    "\t(0) \\\\\n",
    " \t(1) \\\\\n",
    "    \\vdots \\\\\n",
    "   \t\\phantom{0} \\\\\n",
    "    (x)\\\\\n",
    "\t\\phantom{0} \\\\\n",
    "    \\vdots \\\\\n",
    "    \\phantom{0} \n",
    "    \\end{array} \n",
    "\\end{equation}  \n",
    "\n",
    "What about the velocity space? We simply make it into a qubit too by  the map $\\left|+1\\right\\rangle \\mapsto \\left|0\\right\\rangle$, and $\\left|-1\\right\\rangle \\mapsto \\left|1\\right\\rangle$.  So $v \\in \\{0,1\\}$.  Warning: this is just an identification of bases, we have not yet described what  the \"left/right\" hops translate to.\n",
    "\n",
    "\n",
    "When we put the two spaces together, creating the velocity-position space, that's\n",
    "$n+1$ qubits. We give a  velocity-position basis vector the symbol $\\left|v,x\\right\\rangle$. What do these look like? For each $v$ there are $2^n$ values of $x$, so we need a column vector that is $2^{n+1}$ long with the top $2^n$ values for $x$ values with $v=0$ and bottom $2^n$ for $x$ values with $v=1$. The basis element $\\left|v,x\\right\\rangle$ is all zeros except at the position $2^n v+x$, where it is $1$,\n",
    "\n",
    "\\begin{equation}\n",
    "\\left|v,x\\right\\rangle= \n",
    "  \\begin{bmatrix}\n",
    "\t0 \\\\\n",
    " \t0\\\\\n",
    "    \\vdots\\\\\n",
    "   \t0\\\\\n",
    "   \t1\\\\\n",
    "\t0\\\\\n",
    "    \\vdots\\\\\n",
    "    0   \n",
    "  \\end{bmatrix}  \n",
    "  \\begin{array}{l}\n",
    "\t(0) \\\\\n",
    " \t(1) \\\\\n",
    "    \\vdots \\\\\n",
    "   \t\\phantom{0} \\\\\n",
    "   \t(2^n v+x)\\\\\n",
    "\t\\phantom{0} \\\\\n",
    "    \\vdots \\\\\n",
    "    \\phantom{0} \n",
    "    \\end{array} \n",
    "\\end{equation} \n",
    "\n",
    "We have the space set up. Now let's go on and make things evolve. Scattering is a simple operation on the velocity space alone, so it can be any $2 \\times 2$ unitary  matrix, usually parametrized as \n",
    "\n",
    "\\begin{equation}\n",
    "S=\\begin{bmatrix}\n",
    "ie^{i\\alpha}\\sin\\theta&e^{i\\alpha}\\cos\\theta\\\\\n",
    "e^{i\\alpha}\\cos\\theta&ie^{i\\alpha}\\sin\\theta\n",
    "\\end{bmatrix}.\n",
    "\\end{equation}\n",
    "\n",
    "It doesn't affect the position space, so we describe it as\n",
    "\n",
    "\\begin{equation}\n",
    "S \\otimes \\mathbb{I}_x\n",
    "\\end{equation}\n",
    "\n",
    "where $\\mathbb{I}_x$ is the identity on the position space. Just think of it as the map\n",
    "\n",
    "\\begin{equation}\n",
    "\\left| v \\right \\rangle \\mapsto S(\\left | v \\right \\rangle)\n",
    "\\end{equation}\n",
    "\n",
    "Propagtion either shifts the position $\\left|x\\right\\rangle$ to the right by $1$ or the left by $1$ depending on the velocity being $\\left|0\\right\\rangle$ or  $\\left|1\\right\\rangle$ respectively. Let's go back to the vector for $\\left|x\\right\\rangle$ above. If we multiply it on the left by the $2^n \\times 2^n$ matrix\n",
    "\n",
    "\\begin{equation} \n",
    "\\mathbf{X}= \n",
    "  \\begin{bmatrix}\n",
    "    0&0&0&\\cdots &1 \\\\\n",
    "    1&\\ddots &\\ddots& \\ddots &\\vdots \\\\\n",
    "    0 & \\ddots&\\ddots & 0&0\\\\\n",
    "    \\vdots&\\ddots&1&0 & 0 \\\\\n",
    "    0&\\cdots&0&1 & 0   \n",
    "  \\end{bmatrix},\n",
    "\\end{equation}\n",
    "\n",
    "we get\n",
    "\n",
    "\\begin{equation} \n",
    "\\mathbf{X} \\left|x\\right\\rangle = \\left|x+1\\right\\rangle.\n",
    "\\end{equation}\n",
    "\n",
    "We have our right shift. Check this for yourself and also that the left shift is obtained by   $\\mathbf{X}^\\top$. Then propagation we described, call it $\\sigma$, is\n",
    "\n",
    "\\begin{equation} \n",
    "\\sigma= \n",
    "  \\begin{bmatrix}\n",
    "\\mathbf{X} & \\bf{0} \\\\\n",
    "    \\bf{0}&\\mathbf{X}^\\top\n",
    "  \\end{bmatrix}.\n",
    "\\end{equation}\n",
    "\n",
    "In the paper [arXiv:1912.00978](https://arxiv.org/abs/1912.00978) it is shown that propgation $\\sigma$ can be implemented in the following way:\n",
    "\n",
    "![velocity-controlled-shift](./q-inc.png)\n",
    "\n",
    "(The paricular sequence used for the CNOT gates on either side does not matter).\n",
    "\n",
    "There only remains one more thing. How do we implement the shift $\\mathbf{X}$? For that we use a very elegant solution based on Quantum Fourier Transform (QFT). QFT, $\\mathcal{F}$,  is\n",
    "\n",
    "\\begin{equation}\n",
    "\\mathcal{F} : \\left|x\\right\\rangle \\rightarrow \\frac{1}{\\sqrt{N}} \\sum_{k=0}^{N-1} e^{2\\pi i x k/N}\\left| k  \\right\\rangle.\n",
    "\\end{equation}\n",
    "Note: remember that $N=2^n$ for us.\n",
    "\n",
    "Shor's QFT algorithm that we use [arXiv:9508027](https://arxiv.org/abs/quant-ph/9508027v2) is a wonderful tool and is explained in [Nielsen and Chuang](http://dx.doi.org/10.1017/CBO9780511976667).  Shift $\\mathbf{X}$ is diagonalized by the QFT, and that gives us the following expression\n",
    "\n",
    "\\begin{equation}\n",
    "\\mathbf{X}=\\mathcal{F}^{-1} \\Omega \\mathcal{F},\n",
    "\\end{equation}\n",
    "\n",
    "where $\\Omega$ is the diagonal matrix which is a product of one-qubit phase gates. The phase gate applied to qubit $j \\in \\{0,\\ldots,n-1\\}$ is\n",
    "\n",
    "\\begin{equation}\n",
    "u_j=\\begin{bmatrix}\n",
    "    1&0\\\\\n",
    "    0 & \\omega^{2^j}\n",
    "  \\end{bmatrix}.\n",
    "\\end{equation}\n",
    "and $\\omega = e^{2\\pi i/N}$.\n",
    "\n",
    "Finally, we combine the scattering followed by propagation as the QW  evolution operator $R$, \n",
    "\n",
    "\\begin{equation}\n",
    "R=\\sigma \\circ(S\\otimes \\mathbb{I}_x)\n",
    "\\end{equation}\n",
    "\n"
   ]
  },
  {
   "cell_type": "markdown",
   "metadata": {
    "hideCode": false,
    "hidePrompt": false
   },
   "source": [
    "### QW Run!\n",
    "\n",
    "#### Let's see how this QW does on IBM quantum computers "
   ]
  },
  {
   "cell_type": "code",
   "execution_count": 1,
   "metadata": {
    "hideCode": false,
    "hidePrompt": false
   },
   "outputs": [],
   "source": [
    "from qiskit import * \n",
    "from qiskit.visualization import plot_histogram\n",
    "from qiskit.tools.monitor import job_monitor \n",
    "import matplotlib.pyplot as plt \n",
    "%matplotlib inline \n",
    "from math import pi "
   ]
  },
  {
   "cell_type": "markdown",
   "metadata": {
    "hideCode": false,
    "hidePrompt": false
   },
   "source": [
    "#### Set up the parameters of the simulation.  "
   ]
  },
  {
   "cell_type": "code",
   "execution_count": 2,
   "metadata": {
    "hideCode": false,
    "hidePrompt": false
   },
   "outputs": [],
   "source": [
    "T=1  # Number of evolution steps\n",
    "n=2  # number of lattice qubits. Lattice size is 2^n\n",
    "\n",
    "back='ibmqx2' \n",
    "\n",
    "shots=1024*4            # Number of shots to run the program (experiment); maximum is 8192 shots.\n",
    "max_credits = 3        # Maximum number of credits to spend on executions. "
   ]
  },
  {
   "cell_type": "markdown",
   "metadata": {
    "hideCode": false,
    "hidePrompt": false
   },
   "source": [
    "#### Next the  qubits and the circuit. Note that we need $n+1$ qubits including the velocity qubit.  Qubits $0,\\ldots, n-1$ are the lattice qubits and qubit $n$ is the velocity qubit.\n"
   ]
  },
  {
   "cell_type": "code",
   "execution_count": 3,
   "metadata": {
    "hideCode": false,
    "hidePrompt": false
   },
   "outputs": [],
   "source": [
    "qr = QuantumRegister(n+1, \"qr\")\n",
    "cr = ClassicalRegister(n+1, \"cr\")\n",
    "qwcirc = QuantumCircuit(qr, cr, name=\"qwcirc\")"
   ]
  },
  {
   "cell_type": "markdown",
   "metadata": {
    "hideCode": false,
    "hidePrompt": false
   },
   "source": [
    "#### Define the circuits for QFT, the  inverse QFT and the phase shift we need to implement the shift $\\mathbf{X}$. "
   ]
  },
  {
   "cell_type": "code",
   "execution_count": 4,
   "metadata": {
    "hideCode": false,
    "hidePrompt": false
   },
   "outputs": [],
   "source": [
    "def qft(circ, q, n):\n",
    "    \"\"\"n-qubit QFT\"\"\"\n",
    "    for j in range(n)[::-1]:\n",
    "        circ.h(q[j])\n",
    "        for k in range(j-1,-1,-1):\n",
    "            circ.cu1(pi/float(2**(j-k)), q[k], q[j])\n",
    "\n",
    "        \n",
    "def qftinv(circ, q, n):\n",
    "    \"\"\"n-qubit IQFT\"\"\"\n",
    "    for j in range(n):\n",
    "        for k in range(j-1,-1,-1)[::-1]:\n",
    "            circ.cu1(-pi/float(2**(j-k)), q[k], q[j]) \n",
    "        circ.h(q[j])  \n",
    "\n",
    "def phaseshift(circ, q, n):\n",
    "    \"\"\"phase shift.\"\"\"\n",
    "    for j in range(n):\n",
    "        circ.u1(2*pi/float(2**(j+1)), q[j])"
   ]
  },
  {
   "cell_type": "markdown",
   "metadata": {
    "hideCode": false,
    "hidePrompt": false
   },
   "source": [
    "#### Here we set up one step of QW evolution, scattering followed by propagation. We use the scattering matrix\n",
    "\\begin{equation*}\n",
    "S=\\frac{1}{\\sqrt{2}}\\begin{bmatrix}\n",
    "1&i\\\\\n",
    "i&1\n",
    "\\end{bmatrix}.\n",
    "\\end{equation*} \n",
    "#### which is applied to qr[n], the velocity qubit. "
   ]
  },
  {
   "cell_type": "code",
   "execution_count": 5,
   "metadata": {
    "hideCode": false,
    "hidePrompt": false
   },
   "outputs": [],
   "source": [
    "def global_evolution(circ):\n",
    "\n",
    "# SCATTERING\n",
    "    circ.rx(-pi/2,qr[n])\n",
    "\n",
    "#PROPAGATION\n",
    "    for j in range(n):\n",
    "        circ.cx(qr[n],qr[j])\n",
    "\n",
    "    qft(circ, qr, n)\n",
    "    phaseshift(circ,qr,n)\n",
    "    qftinv(circ,qr,n)\n",
    "\n",
    "    for j in range(n):\n",
    "        circ.cx(qr[n],qr[j])"
   ]
  },
  {
   "cell_type": "markdown",
   "metadata": {
    "hideCode": false,
    "hidePrompt": false
   },
   "source": [
    "#### We start in the state with all qubits, including veloctiy qubit, in $\\left| 0 \\right \\rangle$ state except qubit $qr[1]$ of position in $\\left| 1 \\right \\rangle$ state, that is $x=2$."
   ]
  },
  {
   "cell_type": "code",
   "execution_count": 6,
   "metadata": {
    "hideCode": false,
    "hidePrompt": false
   },
   "outputs": [
    {
     "data": {
      "text/plain": [
       "<qiskit.circuit.instructionset.InstructionSet at 0x7fb044c68e80>"
      ]
     },
     "execution_count": 6,
     "metadata": {},
     "output_type": "execute_result"
    }
   ],
   "source": [
    "# Initialize the qubits.\n",
    "\n",
    "qwcirc.x(qr[1]) # position initialization\n",
    "#qwcirc.x(qr[n]) # momentum initialization"
   ]
  },
  {
   "cell_type": "markdown",
   "metadata": {
    "hideCode": false,
    "hidePrompt": false
   },
   "source": [
    "#### We run the simulation for T steps of evolution. "
   ]
  },
  {
   "cell_type": "code",
   "execution_count": 7,
   "metadata": {
    "hideCode": false,
    "hidePrompt": false
   },
   "outputs": [
    {
     "data": {
      "text/plain": [
       "<qiskit.circuit.instructionset.InstructionSet at 0x7fb044c73588>"
      ]
     },
     "execution_count": 7,
     "metadata": {},
     "output_type": "execute_result"
    }
   ],
   "source": [
    "for t in range(T):\n",
    "   global_evolution(qwcirc)\n",
    "qwcirc.barrier()\n"
   ]
  },
  {
   "cell_type": "markdown",
   "metadata": {
    "hideCode": false,
    "hidePrompt": false
   },
   "source": [
    "#### And we measure the state. That's all... "
   ]
  },
  {
   "cell_type": "code",
   "execution_count": 8,
   "metadata": {
    "hideCode": false,
    "hidePrompt": false
   },
   "outputs": [
    {
     "data": {
      "text/plain": [
       "<qiskit.circuit.instructionset.InstructionSet at 0x7fb044c732e8>"
      ]
     },
     "execution_count": 8,
     "metadata": {},
     "output_type": "execute_result"
    }
   ],
   "source": [
    "qwcirc.measure(qr, cr)"
   ]
  },
  {
   "cell_type": "markdown",
   "metadata": {
    "hideCode": false,
    "hidePrompt": false
   },
   "source": [
    "#### ..... except for the simulation."
   ]
  },
  {
   "cell_type": "markdown",
   "metadata": {
    "hideCode": false,
    "hidePrompt": false
   },
   "source": [
    "### Simulator \n",
    "#### Try the algorithm on the simulator first"
   ]
  },
  {
   "cell_type": "code",
   "execution_count": 9,
   "metadata": {
    "hideCode": false,
    "hidePrompt": false
   },
   "outputs": [
    {
     "data": {
      "image/png": "[encoded data removed]",
      "text/plain": [
       "<Figure size 1080x432 with 1 Axes>"
      ]
     },
     "execution_count": 9,
     "metadata": {},
     "output_type": "execute_result"
    }
   ],
   "source": [
    "from qiskit.providers.aer.noise import NoiseModel\n",
    "noise_model = NoiseModel()\n",
    "from qiskit.providers.aer import QasmSimulator\n",
    "\n",
    "#simulator = QasmSimulator()\n",
    "simulator = Aer.get_backend('qasm_simulator')\n",
    "job = execute(qwcirc, backend=simulator, shots=shots)\n",
    "result = job.result()\n",
    "\n",
    "## Then, plot a histogram of the results\n",
    "counts = result.get_counts(qwcirc)\n",
    "from qiskit.tools.visualization import plot_histogram\n",
    "title='simulator' +', '+str(2**n)+' sites, '+str(T)+' steps'\n",
    "plot_histogram([counts],\n",
    "               figsize=(15,6),\n",
    "               legend=[title])\n"
   ]
  },
  {
   "cell_type": "markdown",
   "metadata": {
    "hideCode": false,
    "hidePrompt": false
   },
   "source": [
    "#### The above distribtion of velocity-position state is what we would expect.\n",
    "\n",
    "#### Note: for the lattice size of  $4$ ($n=2$) and $T=1$ step of evolution that we have chosen, we see that the state is equally likely one of these: velocity is $0$ (right shift) when position is $11$  and the velocity is $1$ (left shift) when position is $01$. For other parameter choices, the distribution would be different."
   ]
  },
  {
   "cell_type": "markdown",
   "metadata": {
    "hideCode": false,
    "hidePrompt": false
   },
   "source": [
    "### Quantum computer\n",
    "#### Let's try it on a quantum computer"
   ]
  },
  {
   "cell_type": "code",
   "execution_count": 10,
   "metadata": {
    "hideCode": false,
    "hidePrompt": false
   },
   "outputs": [],
   "source": [
    "## Use your generated API_KEY from IBM Q account\n",
    "\n",
    "#IBMQ.save_account(API_KEY)\n",
    "#IBMQ.enable_account(API_KEY)"
   ]
  },
  {
   "cell_type": "code",
   "execution_count": 11,
   "metadata": {
    "hideCode": false,
    "hidePrompt": false
   },
   "outputs": [],
   "source": [
    "IBMQ.load_account()\n",
    "provider = IBMQ.get_provider(group='open')"
   ]
  },
  {
   "cell_type": "code",
   "execution_count": 12,
   "metadata": {
    "hideCode": false,
    "hidePrompt": false
   },
   "outputs": [
    {
     "name": "stdout",
     "output_type": "stream",
     "text": [
      "Job Status: job has successfully run\n"
     ]
    }
   ],
   "source": [
    "backend = provider.get_backend(back)\n",
    "jobc = execute(qwcirc, backend,shots=shots)\n",
    "job_monitor(jobc)"
   ]
  },
  {
   "cell_type": "code",
   "execution_count": 13,
   "metadata": {
    "hideCode": false,
    "hidePrompt": false
   },
   "outputs": [],
   "source": [
    "countsc = jobc.result().get_counts()"
   ]
  },
  {
   "cell_type": "code",
   "execution_count": 14,
   "metadata": {
    "hideCode": false,
    "hidePrompt": false
   },
   "outputs": [
    {
     "data": {
      "image/png": "[encoded data removed]",
      "text/plain": [
       "<Figure size 1080x432 with 1 Axes>"
      ]
     },
     "execution_count": 14,
     "metadata": {},
     "output_type": "execute_result"
    }
   ],
   "source": [
    "title=back+', '+str(2**n)+' sites, '+str(T)+' steps'\n",
    "plot_histogram([countsc],\n",
    "               figsize=(15,6),\n",
    "               legend=[title])"
   ]
  },
  {
   "cell_type": "markdown",
   "metadata": {
    "hideCode": false,
    "hidePrompt": false
   },
   "source": [
    "#### The quantum computer run above shows good agreement with the simulated run, despite  the noise and other effects. "
   ]
  },
  {
   "cell_type": "code",
   "execution_count": null,
   "metadata": {
    "hideCode": false,
    "hidePrompt": false
   },
   "outputs": [],
   "source": []
  }
 ],
 "metadata": {
  "hide_code_all_hidden": false,
  "kernelspec": {
   "display_name": "Python 3",
   "language": "python",
   "name": "python3"
  },
  "language_info": {
   "codemirror_mode": {
    "name": "ipython",
    "version": 3
   },
   "file_extension": ".py",
   "mimetype": "text/x-python",
   "name": "python",
   "nbconvert_exporter": "python",
   "pygments_lexer": "ipython3",
   "version": "3.7.3"
  }
 },
 "nbformat": 4,
 "nbformat_minor": 4
}
